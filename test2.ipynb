{
 "cells": [
  {
   "cell_type": "code",
   "execution_count": 1,
   "metadata": {},
   "outputs": [
    {
     "name": "stdout",
     "output_type": "stream",
     "text": [
      "   Supplier Name Invoice Number  Part Number     Cost Purchase Date\n",
      "0     Supplier X       001-1001         2341  $500.00       1/20/14\n",
      "1     Supplier X       001-1001         2341  $500.00       1/20/14\n",
      "2     Supplier X       001-1001         5467  $750.00       1/20/14\n",
      "3     Supplier X       001-1001         5467  $750.00       1/20/14\n",
      "4     Supplier Y        50-9501         7009  $250.00       1/30/14\n",
      "5     Supplier Y        50-9501         7009  $250.00       1/30/14\n",
      "6     Supplier Y        50-9505         6650  $125.00        2/3/14\n",
      "7     Supplier Y        50-9505         6650  $125.00        2/3/14\n",
      "8     Supplier Z       920-4803         3321  $615.00        2/3/14\n",
      "9     Supplier Z       920-4804         3321  $615.00       2/10/14\n",
      "10    Supplier Z       920-4805         3321  $615.00       2/17/14\n",
      "11    Supplier Z       920-4806         3321  $615.00       2/24/14\n"
     ]
    }
   ],
   "source": [
    "import sys\n",
    "import pandas as pd\n",
    "\n",
    "input_files = '/home/jeong/c&c/foundations-for-analytics-with-python/csv/supplier_data.csv'\n",
    "output_files = '/home/jeong/c&c/csv_output/num1.csv'\n",
    "output_dir = '/home/jeong/c&c/csv_output/'\n",
    "\n",
    "input_files2 = '/home/jeong/c&c/foundations-for-analytics-with-python/csv/supplier_data_no_header_row.csv'\n",
    "data = pd.read_csv(input_files)\n",
    "own_data = pd.read_csv(input_files)\n",
    "\n",
    "print(data)"
   ]
  },
  {
   "cell_type": "code",
   "execution_count": 2,
   "metadata": {},
   "outputs": [
    {
     "name": "stdout",
     "output_type": "stream",
     "text": [
      "   Supplier Name Invoice Number  Part Number    Cost Purchase Date\n",
      "0     Supplier X       001-1001         2341  500.00       1/20/14\n",
      "1     Supplier X       001-1001         2341  500.00       1/20/14\n",
      "2     Supplier X       001-1001         5467  750.00       1/20/14\n",
      "3     Supplier X       001-1001         5467  750.00       1/20/14\n",
      "4     Supplier Y        50-9501         7009  250.00       1/30/14\n",
      "5     Supplier Y        50-9501         7009  250.00       1/30/14\n",
      "6     Supplier Y        50-9505         6650  125.00        2/3/14\n",
      "7     Supplier Y        50-9505         6650  125.00        2/3/14\n",
      "8     Supplier Z       920-4803         3321  615.00        2/3/14\n",
      "9     Supplier Z       920-4804         3321  615.00       2/10/14\n",
      "10    Supplier Z       920-4805         3321  615.00       2/17/14\n",
      "11    Supplier Z       920-4806         3321  615.00       2/24/14\n"
     ]
    }
   ],
   "source": [
    "data['Cost'] = data['Cost'].str.strip('$')\n",
    "print(data)"
   ]
  },
  {
   "cell_type": "code",
   "execution_count": 3,
   "metadata": {},
   "outputs": [
    {
     "name": "stdout",
     "output_type": "stream",
     "text": [
      "   Supplier Name Invoice Number  Part Number   Cost Purchase Date\n",
      "0     Supplier X       001-1001         2341  500.0       1/20/14\n",
      "1     Supplier X       001-1001         2341  500.0       1/20/14\n",
      "2     Supplier X       001-1001         5467  750.0       1/20/14\n",
      "3     Supplier X       001-1001         5467  750.0       1/20/14\n",
      "4     Supplier Y        50-9501         7009  250.0       1/30/14\n",
      "5     Supplier Y        50-9501         7009  250.0       1/30/14\n",
      "6     Supplier Y        50-9505         6650  125.0        2/3/14\n",
      "7     Supplier Y        50-9505         6650  125.0        2/3/14\n",
      "8     Supplier Z       920-4803         3321  615.0        2/3/14\n",
      "9     Supplier Z       920-4804         3321  615.0       2/10/14\n",
      "10    Supplier Z       920-4805         3321  615.0       2/17/14\n",
      "11    Supplier Z       920-4806         3321  615.0       2/24/14\n"
     ]
    }
   ],
   "source": [
    "data['Cost'] = data['Cost'].astype(float)\n",
    "print(data)"
   ]
  },
  {
   "cell_type": "code",
   "execution_count": 4,
   "metadata": {},
   "outputs": [
    {
     "name": "stdout",
     "output_type": "stream",
     "text": [
      "   Supplier Name Invoice Number  Part Number   Cost Purchase Date\n",
      "8     Supplier Z       920-4803         3321  615.0        2/3/14\n",
      "9     Supplier Z       920-4804         3321  615.0       2/10/14\n",
      "10    Supplier Z       920-4805         3321  615.0       2/17/14\n",
      "11    Supplier Z       920-4806         3321  615.0       2/24/14\n",
      "  Supplier Name Invoice Number  Part Number   Cost Purchase Date\n",
      "4    Supplier Y        50-9501         7009  250.0       1/30/14\n",
      "5    Supplier Y        50-9501         7009  250.0       1/30/14\n",
      "6    Supplier Y        50-9505         6650  125.0        2/3/14\n",
      "7    Supplier Y        50-9505         6650  125.0        2/3/14\n"
     ]
    }
   ],
   "source": [
    "data_re1 = data.loc[(data['Supplier Name'].str.contains('Z'))]\n",
    "data_re2 = data.loc[(data['Invoice Number'].str.contains('50'))]\n",
    "print(data_re1)\n",
    "print(data_re2)"
   ]
  },
  {
   "cell_type": "code",
   "execution_count": 5,
   "metadata": {},
   "outputs": [
    {
     "name": "stdout",
     "output_type": "stream",
     "text": [
      "  Supplier Name Invoice Number  Part Number   Cost Purchase Date\n",
      "9    Supplier Z       920-4804         3321  615.0       2/10/14\n",
      "  Supplier Name Invoice Number  Part Number   Cost Purchase Date\n",
      "4    Supplier Y        50-9501         7009  250.0       1/30/14\n",
      "5    Supplier Y        50-9501         7009  250.0       1/30/14\n"
     ]
    }
   ],
   "source": [
    "data_dis = ['2/10/14']\n",
    "data_re3 = data.loc[data['Purchase Date'].isin(data_dis), :]\n",
    "print(data_re3)\n",
    "\n",
    "data_dis1 = ['7009']\n",
    "data_re4 = data.loc[data['Part Number'].isin(data_dis1), :]\n",
    "print(data_re4)"
   ]
  },
  {
   "cell_type": "code",
   "execution_count": 6,
   "metadata": {},
   "outputs": [],
   "source": [
    "data_re3.to_csv(output_dir+'datat_re3.csv', index=False)"
   ]
  },
  {
   "cell_type": "code",
   "execution_count": 7,
   "metadata": {},
   "outputs": [
    {
     "name": "stdout",
     "output_type": "stream",
     "text": [
      "  Supplier Name Invoice Number  Part Number   Cost Purchase Date\n",
      "4    Supplier Y        50-9501         7009  250.0       1/30/14\n",
      "5    Supplier Y        50-9501         7009  250.0       1/30/14\n",
      "6    Supplier Y        50-9505         6650  125.0        2/3/14\n",
      "7    Supplier Y        50-9505         6650  125.0        2/3/14\n",
      "  Supplier Name Invoice Number  Part Number   Cost Purchase Date\n",
      "0    Supplier X       001-1001         2341  500.0       1/20/14\n",
      "1    Supplier X       001-1001         2341  500.0       1/20/14\n",
      "2    Supplier X       001-1001         5467  750.0       1/20/14\n",
      "3    Supplier X       001-1001         5467  750.0       1/20/14\n",
      "4    Supplier Y        50-9501         7009  250.0       1/30/14\n",
      "5    Supplier Y        50-9501         7009  250.0       1/30/14\n"
     ]
    }
   ],
   "source": [
    "data_re4 = data.loc[data['Invoice Number'].str.startswith(\"50\"),:] # & data['Part Number'].str.endswith(\"09\"), :]\n",
    "data_re5 = data.loc[data['Invoice Number'].str.endswith(\"01\"), :]\n",
    "print(data_re4)\n",
    "print(data_re5)"
   ]
  },
  {
   "cell_type": "code",
   "execution_count": 8,
   "metadata": {},
   "outputs": [
    {
     "name": "stdout",
     "output_type": "stream",
     "text": [
      "   Supplier Name Invoice Number  Part Number     Cost Purchase Date\n",
      "0     Supplier X       001-1001         2341  $500.00       1/20/14\n",
      "1     Supplier X       001-1001         2341  $500.00       1/20/14\n",
      "2     Supplier X       001-1001         5467  $750.00       1/20/14\n",
      "3     Supplier X       001-1001         5467  $750.00       1/20/14\n",
      "4     Supplier Y        50-9501         7009  $250.00       1/30/14\n",
      "5     Supplier Y        50-9501         7009  $250.00       1/30/14\n",
      "6     Supplier Y        50-9505         6650  $125.00        2/3/14\n",
      "7     Supplier Y        50-9505         6650  $125.00        2/3/14\n",
      "8     Supplier Z       920-4803         3321  $615.00        2/3/14\n",
      "9     Supplier Z       920-4804         3321  $615.00       2/10/14\n",
      "10    Supplier Z       920-4805         3321  $615.00       2/17/14\n",
      "11    Supplier Z       920-4806         3321  $615.00       2/24/14\n"
     ]
    }
   ],
   "source": [
    "print(own_data)"
   ]
  },
  {
   "cell_type": "code",
   "execution_count": 22,
   "metadata": {},
   "outputs": [
    {
     "name": "stdout",
     "output_type": "stream",
     "text": [
      "0     500.00\n",
      "1     500.00\n",
      "2     750.00\n",
      "3     750.00\n",
      "4     250.00\n",
      "5     250.00\n",
      "6     125.00\n",
      "7     125.00\n",
      "8     615.00\n",
      "9     615.00\n",
      "10    615.00\n",
      "11    615.00\n",
      "Name: Cost, dtype: object\n",
      "0     500.0\n",
      "1     500.0\n",
      "2     750.0\n",
      "3     750.0\n",
      "4     250.0\n",
      "5     250.0\n",
      "6     125.0\n",
      "7     125.0\n",
      "8     615.0\n",
      "9     615.0\n",
      "10    615.0\n",
      "11    615.0\n",
      "Name: Cost, dtype: float64\n"
     ]
    }
   ],
   "source": [
    "re_data1 = own_data['Cost'].str.strip('$')\n",
    "re_data2 = re_data1.astype(float)\n",
    "print(re_data1)\n",
    "print(re_data2)"
   ]
  },
  {
   "cell_type": "code",
   "execution_count": 23,
   "metadata": {},
   "outputs": [
    {
     "name": "stdout",
     "output_type": "stream",
     "text": [
      "   Supplier Name Invoice Number  Part Number     Cost Purchase Date\n",
      "0     Supplier X       001-1001         2341  $500.00       1/20/14\n",
      "1     Supplier X       001-1001         2341  $500.00       1/20/14\n",
      "2     Supplier X       001-1001         5467  $750.00       1/20/14\n",
      "3     Supplier X       001-1001         5467  $750.00       1/20/14\n",
      "4     Supplier Y        50-9501         7009  $250.00       1/30/14\n",
      "5     Supplier Y        50-9501         7009  $250.00       1/30/14\n",
      "6     Supplier Y        50-9505         6650  $125.00        2/3/14\n",
      "7     Supplier Y        50-9505         6650  $125.00        2/3/14\n",
      "8     Supplier Z       920-4803         3321  $615.00        2/3/14\n",
      "9     Supplier Z       920-4804         3321  $615.00       2/10/14\n",
      "10    Supplier Z       920-4805         3321  $615.00       2/17/14\n",
      "11    Supplier Z       920-4806         3321  $615.00       2/24/14\n"
     ]
    }
   ],
   "source": [
    "print(own_data)"
   ]
  },
  {
   "cell_type": "code",
   "execution_count": 38,
   "metadata": {},
   "outputs": [
    {
     "name": "stdout",
     "output_type": "stream",
     "text": [
      "   Supplier Name Invoice Number  Part Number     Cost Purchase Date\n",
      "8     Supplier Z       920-4803         3321  $615.00        2/3/14\n",
      "9     Supplier Z       920-4804         3321  $615.00       2/10/14\n",
      "10    Supplier Z       920-4805         3321  $615.00       2/17/14\n",
      "11    Supplier Z       920-4806         3321  $615.00       2/24/14\n",
      "   Supplier Name Invoice Number  Part Number     Cost Purchase Date\n",
      "8     Supplier Z       920-4803         3321  $615.00        2/3/14\n",
      "9     Supplier Z       920-4804         3321  $615.00       2/10/14\n",
      "10    Supplier Z       920-4805         3321  $615.00       2/17/14\n",
      "11    Supplier Z       920-4806         3321  $615.00       2/24/14\n"
     ]
    }
   ],
   "source": [
    "#part number에서 3321을 찾아라\n",
    "re_data3 = own_data.loc[own_data['Part Number'].astype(str).str.contains('3321'), :]\n",
    "re_data4 = own_data.loc[(own_data['Supplier Name'].str.contains('Z'))]\n",
    "\n",
    "print(re_data3)\n",
    "print(re_data4)"
   ]
  },
  {
   "cell_type": "code",
   "execution_count": 39,
   "metadata": {},
   "outputs": [
    {
     "name": "stdout",
     "output_type": "stream",
     "text": [
      "  Supplier Name Invoice Number  Part Number     Cost Purchase Date\n",
      "6    Supplier Y        50-9505         6650  $125.00        2/3/14\n",
      "7    Supplier Y        50-9505         6650  $125.00        2/3/14\n"
     ]
    }
   ],
   "source": [
    "search_data = ['6650']\n",
    "re_data5 = own_data.loc[own_data['Part Number'].isin(search_data),:]\n",
    "print(re_data5)"
   ]
  },
  {
   "cell_type": "code",
   "execution_count": 46,
   "metadata": {},
   "outputs": [
    {
     "name": "stdout",
     "output_type": "stream",
     "text": [
      "  Supplier Name Invoice Number  Part Number     Cost Purchase Date\n",
      "6    Supplier Y        50-9505         6650  $125.00        2/3/14\n",
      "7    Supplier Y        50-9505         6650  $125.00        2/3/14\n",
      "   Supplier Name Invoice Number  Part Number     Cost Purchase Date\n",
      "8     Supplier Z       920-4803         3321  $615.00        2/3/14\n",
      "9     Supplier Z       920-4804         3321  $615.00       2/10/14\n",
      "10    Supplier Z       920-4805         3321  $615.00       2/17/14\n",
      "11    Supplier Z       920-4806         3321  $615.00       2/24/14\n"
     ]
    }
   ],
   "source": [
    "re_data6 = own_data.loc[own_data['Part Number'].astype(str).str.startswith('66'),:]\n",
    "re_data7 = own_data.loc[own_data['Part Number'].astype(str).str.endswith('21'),:]\n",
    "print(re_data6)\n",
    "print(re_data7)"
   ]
  },
  {
   "cell_type": "code",
   "execution_count": 54,
   "metadata": {},
   "outputs": [
    {
     "name": "stdout",
     "output_type": "stream",
     "text": [
      "   Supplier Name     Cost\n",
      "0     Supplier X  $500.00\n",
      "1     Supplier X  $500.00\n",
      "2     Supplier X  $750.00\n",
      "3     Supplier X  $750.00\n",
      "4     Supplier Y  $250.00\n",
      "5     Supplier Y  $250.00\n",
      "6     Supplier Y  $125.00\n",
      "7     Supplier Y  $125.00\n",
      "8     Supplier Z  $615.00\n",
      "9     Supplier Z  $615.00\n",
      "10    Supplier Z  $615.00\n",
      "11    Supplier Z  $615.00\n",
      "       Cost\n",
      "0   $500.00\n",
      "1   $500.00\n",
      "2   $750.00\n",
      "3   $750.00\n",
      "4   $250.00\n",
      "5   $250.00\n",
      "6   $125.00\n",
      "7   $125.00\n",
      "8   $615.00\n",
      "9   $615.00\n",
      "10  $615.00\n",
      "11  $615.00\n"
     ]
    }
   ],
   "source": [
    "#특정 열을 뽑아올 때 사용\n",
    "re_data8 = own_data.iloc[:,[0,3]]\n",
    "re_data9 = own_data.loc[:,['Cost']]\n",
    "print(re_data8)\n",
    "print(re_data9)\n",
    "\n",
    "re_data8.to_csv(output_dir + 'test4.csv', index = False)"
   ]
  },
  {
   "cell_type": "code",
   "execution_count": 61,
   "metadata": {},
   "outputs": [
    {
     "name": "stdout",
     "output_type": "stream",
     "text": [
      "   Supplier Name Invoice Number  Part Number     Cost Purchase Date\n",
      "0     Supplier X       001-1001         2341  $500.00       1/20/14\n",
      "1     Supplier X       001-1001         2341  $500.00       1/20/14\n",
      "2     Supplier X       001-1001         5467  $750.00       1/20/14\n",
      "3     Supplier X       001-1001         5467  $750.00       1/20/14\n",
      "4     Supplier Y        50-9501         7009  $250.00       1/30/14\n",
      "5     Supplier Y        50-9501         7009  $250.00       1/30/14\n",
      "6     Supplier Y        50-9505         6650  $125.00        2/3/14\n",
      "7     Supplier Y        50-9505         6650  $125.00        2/3/14\n",
      "8     Supplier Z       920-4803         3321  $615.00        2/3/14\n",
      "9     Supplier Z       920-4804         3321  $615.00       2/10/14\n",
      "10    Supplier Z       920-4805         3321  $615.00       2/17/14\n",
      "11    Supplier Z       920-4806         3321  $615.00       2/24/14\n",
      "3   Supplier X  001-1001    5467  $750.00  1/20/14\n",
      "0          NaN       NaN     NaN      NaN      NaN\n",
      "1          NaN       NaN     NaN      NaN      NaN\n",
      "2          NaN       NaN     NaN      NaN      NaN\n",
      "4   Supplier Y   50-9501  7009.0  $250.00  1/30/14\n",
      "5   Supplier Y   50-9501  7009.0  $250.00  1/30/14\n",
      "6   Supplier Y   50-9505  6650.0  $125.00   2/3/14\n",
      "7   Supplier Y   50-9505  6650.0  $125.00   2/3/14\n",
      "8   Supplier Z  920-4803  3321.0  $615.00   2/3/14\n",
      "9          NaN       NaN     NaN      NaN      NaN\n",
      "10         NaN       NaN     NaN      NaN      NaN\n",
      "11         NaN       NaN     NaN      NaN      NaN\n"
     ]
    }
   ],
   "source": [
    "print(own_data)\n",
    "own_data = own_data.drop([0,1,2,9,10,11])\n",
    "own_data.columns = own_data.iloc[0]\n",
    "own_data = own_data.reindex(data.index.drop(3))\n",
    "\n",
    "print(own_data)\n"
   ]
  },
  {
   "cell_type": "code",
   "execution_count": 65,
   "metadata": {},
   "outputs": [
    {
     "data": {
      "text/html": [
       "<div>\n",
       "<style scoped>\n",
       "    .dataframe tbody tr th:only-of-type {\n",
       "        vertical-align: middle;\n",
       "    }\n",
       "\n",
       "    .dataframe tbody tr th {\n",
       "        vertical-align: top;\n",
       "    }\n",
       "\n",
       "    .dataframe thead th {\n",
       "        text-align: right;\n",
       "    }\n",
       "</style>\n",
       "<table border=\"1\" class=\"dataframe\">\n",
       "  <thead>\n",
       "    <tr style=\"text-align: right;\">\n",
       "      <th></th>\n",
       "      <th>A</th>\n",
       "      <th>B</th>\n",
       "      <th>C</th>\n",
       "    </tr>\n",
       "  </thead>\n",
       "  <tbody>\n",
       "    <tr>\n",
       "      <th>2018-04-06</th>\n",
       "      <td>9.396256</td>\n",
       "      <td>6.282026</td>\n",
       "      <td>-11.198087</td>\n",
       "    </tr>\n",
       "    <tr>\n",
       "      <th>2018-04-07</th>\n",
       "      <td>10.086074</td>\n",
       "      <td>7.583872</td>\n",
       "      <td>-11.826175</td>\n",
       "    </tr>\n",
       "    <tr>\n",
       "      <th>2018-04-08</th>\n",
       "      <td>9.605047</td>\n",
       "      <td>9.887789</td>\n",
       "      <td>-12.886190</td>\n",
       "    </tr>\n",
       "    <tr>\n",
       "      <th>2018-04-09</th>\n",
       "      <td>9.469097</td>\n",
       "      <td>11.024680</td>\n",
       "      <td>-12.788465</td>\n",
       "    </tr>\n",
       "    <tr>\n",
       "      <th>2018-04-10</th>\n",
       "      <td>10.052051</td>\n",
       "      <td>10.625231</td>\n",
       "      <td>-12.418409</td>\n",
       "    </tr>\n",
       "  </tbody>\n",
       "</table>\n",
       "</div>"
      ],
      "text/plain": [
       "                    A          B          C\n",
       "2018-04-06   9.396256   6.282026 -11.198087\n",
       "2018-04-07  10.086074   7.583872 -11.826175\n",
       "2018-04-08   9.605047   9.887789 -12.886190\n",
       "2018-04-09   9.469097  11.024680 -12.788465\n",
       "2018-04-10  10.052051  10.625231 -12.418409"
      ]
     },
     "execution_count": 65,
     "metadata": {},
     "output_type": "execute_result"
    }
   ],
   "source": [
    "import numpy as np\n",
    "np.random.seed(0)\n",
    "df1 = pd.DataFrame(np.random.randn(100, 3),\n",
    "                   index=pd.date_range('1/1/2018', periods=100),\n",
    "                   columns=['A', 'B', 'C']).cumsum()\n",
    "df1.tail()"
   ]
  },
  {
   "cell_type": "code",
   "execution_count": 69,
   "metadata": {},
   "outputs": [
    {
     "ename": "ImportError",
     "evalue": "matplotlib is required for plotting.",
     "output_type": "error",
     "traceback": [
      "\u001b[0;31m---------------------------------------------------------------------------\u001b[0m",
      "\u001b[0;31mImportError\u001b[0m                               Traceback (most recent call last)",
      "\u001b[0;32m<ipython-input-69-8942517fc978>\u001b[0m in \u001b[0;36m<module>\u001b[0;34m\u001b[0m\n\u001b[1;32m      2\u001b[0m \u001b[0;32mimport\u001b[0m \u001b[0mmatplotlib\u001b[0m\u001b[0;34m.\u001b[0m\u001b[0mpyplot\u001b[0m \u001b[0;32mas\u001b[0m \u001b[0mplt\u001b[0m\u001b[0;34m\u001b[0m\u001b[0;34m\u001b[0m\u001b[0m\n\u001b[1;32m      3\u001b[0m \u001b[0;34m\u001b[0m\u001b[0m\n\u001b[0;32m----> 4\u001b[0;31m \u001b[0mdf1\u001b[0m\u001b[0;34m.\u001b[0m\u001b[0mplot\u001b[0m\u001b[0;34m(\u001b[0m\u001b[0;34m)\u001b[0m\u001b[0;34m\u001b[0m\u001b[0;34m\u001b[0m\u001b[0m\n\u001b[0m\u001b[1;32m      5\u001b[0m \u001b[0mplt\u001b[0m\u001b[0;34m.\u001b[0m\u001b[0mtitle\u001b[0m\u001b[0;34m(\u001b[0m\u001b[0;34m\"Pandas의 Plot메소드 사용 예\"\u001b[0m\u001b[0;34m)\u001b[0m\u001b[0;34m\u001b[0m\u001b[0;34m\u001b[0m\u001b[0m\n\u001b[1;32m      6\u001b[0m \u001b[0mplt\u001b[0m\u001b[0;34m.\u001b[0m\u001b[0mxlabel\u001b[0m\u001b[0;34m(\u001b[0m\u001b[0;34m\"시간\"\u001b[0m\u001b[0;34m)\u001b[0m\u001b[0;34m\u001b[0m\u001b[0;34m\u001b[0m\u001b[0m\n",
      "\u001b[0;32m~/.local/lib/python3.6/site-packages/pandas/plotting/_core.py\u001b[0m in \u001b[0;36m__call__\u001b[0;34m(self, x, y, kind, ax, subplots, sharex, sharey, layout, figsize, use_index, title, grid, legend, style, logx, logy, loglog, xticks, yticks, xlim, ylim, rot, fontsize, colormap, table, yerr, xerr, secondary_y, sort_columns, **kwds)\u001b[0m\n\u001b[1;32m   2940\u001b[0m                           \u001b[0mfontsize\u001b[0m\u001b[0;34m=\u001b[0m\u001b[0mfontsize\u001b[0m\u001b[0;34m,\u001b[0m \u001b[0mcolormap\u001b[0m\u001b[0;34m=\u001b[0m\u001b[0mcolormap\u001b[0m\u001b[0;34m,\u001b[0m \u001b[0mtable\u001b[0m\u001b[0;34m=\u001b[0m\u001b[0mtable\u001b[0m\u001b[0;34m,\u001b[0m\u001b[0;34m\u001b[0m\u001b[0;34m\u001b[0m\u001b[0m\n\u001b[1;32m   2941\u001b[0m                           \u001b[0myerr\u001b[0m\u001b[0;34m=\u001b[0m\u001b[0myerr\u001b[0m\u001b[0;34m,\u001b[0m \u001b[0mxerr\u001b[0m\u001b[0;34m=\u001b[0m\u001b[0mxerr\u001b[0m\u001b[0;34m,\u001b[0m \u001b[0msecondary_y\u001b[0m\u001b[0;34m=\u001b[0m\u001b[0msecondary_y\u001b[0m\u001b[0;34m,\u001b[0m\u001b[0;34m\u001b[0m\u001b[0;34m\u001b[0m\u001b[0m\n\u001b[0;32m-> 2942\u001b[0;31m                           sort_columns=sort_columns, **kwds)\n\u001b[0m\u001b[1;32m   2943\u001b[0m     \u001b[0m__call__\u001b[0m\u001b[0;34m.\u001b[0m\u001b[0m__doc__\u001b[0m \u001b[0;34m=\u001b[0m \u001b[0mplot_frame\u001b[0m\u001b[0;34m.\u001b[0m\u001b[0m__doc__\u001b[0m\u001b[0;34m\u001b[0m\u001b[0;34m\u001b[0m\u001b[0m\n\u001b[1;32m   2944\u001b[0m \u001b[0;34m\u001b[0m\u001b[0m\n",
      "\u001b[0;32m~/.local/lib/python3.6/site-packages/pandas/plotting/_core.py\u001b[0m in \u001b[0;36mplot_frame\u001b[0;34m(data, x, y, kind, ax, subplots, sharex, sharey, layout, figsize, use_index, title, grid, legend, style, logx, logy, loglog, xticks, yticks, xlim, ylim, rot, fontsize, colormap, table, yerr, xerr, secondary_y, sort_columns, **kwds)\u001b[0m\n\u001b[1;32m   1971\u001b[0m                  \u001b[0myerr\u001b[0m\u001b[0;34m=\u001b[0m\u001b[0myerr\u001b[0m\u001b[0;34m,\u001b[0m \u001b[0mxerr\u001b[0m\u001b[0;34m=\u001b[0m\u001b[0mxerr\u001b[0m\u001b[0;34m,\u001b[0m\u001b[0;34m\u001b[0m\u001b[0;34m\u001b[0m\u001b[0m\n\u001b[1;32m   1972\u001b[0m                  \u001b[0msecondary_y\u001b[0m\u001b[0;34m=\u001b[0m\u001b[0msecondary_y\u001b[0m\u001b[0;34m,\u001b[0m \u001b[0msort_columns\u001b[0m\u001b[0;34m=\u001b[0m\u001b[0msort_columns\u001b[0m\u001b[0;34m,\u001b[0m\u001b[0;34m\u001b[0m\u001b[0;34m\u001b[0m\u001b[0m\n\u001b[0;32m-> 1973\u001b[0;31m                  **kwds)\n\u001b[0m\u001b[1;32m   1974\u001b[0m \u001b[0;34m\u001b[0m\u001b[0m\n\u001b[1;32m   1975\u001b[0m \u001b[0;34m\u001b[0m\u001b[0m\n",
      "\u001b[0;32m~/.local/lib/python3.6/site-packages/pandas/plotting/_core.py\u001b[0m in \u001b[0;36m_plot\u001b[0;34m(data, x, y, subplots, ax, kind, **kwds)\u001b[0m\n\u001b[1;32m   1797\u001b[0m                     \u001b[0mdata\u001b[0m\u001b[0;34m.\u001b[0m\u001b[0mcolumns\u001b[0m \u001b[0;34m=\u001b[0m \u001b[0mlabel_name\u001b[0m\u001b[0;34m\u001b[0m\u001b[0;34m\u001b[0m\u001b[0m\n\u001b[1;32m   1798\u001b[0m \u001b[0;34m\u001b[0m\u001b[0m\n\u001b[0;32m-> 1799\u001b[0;31m         \u001b[0mplot_obj\u001b[0m \u001b[0;34m=\u001b[0m \u001b[0mklass\u001b[0m\u001b[0;34m(\u001b[0m\u001b[0mdata\u001b[0m\u001b[0;34m,\u001b[0m \u001b[0msubplots\u001b[0m\u001b[0;34m=\u001b[0m\u001b[0msubplots\u001b[0m\u001b[0;34m,\u001b[0m \u001b[0max\u001b[0m\u001b[0;34m=\u001b[0m\u001b[0max\u001b[0m\u001b[0;34m,\u001b[0m \u001b[0mkind\u001b[0m\u001b[0;34m=\u001b[0m\u001b[0mkind\u001b[0m\u001b[0;34m,\u001b[0m \u001b[0;34m**\u001b[0m\u001b[0mkwds\u001b[0m\u001b[0;34m)\u001b[0m\u001b[0;34m\u001b[0m\u001b[0;34m\u001b[0m\u001b[0m\n\u001b[0m\u001b[1;32m   1800\u001b[0m \u001b[0;34m\u001b[0m\u001b[0m\n\u001b[1;32m   1801\u001b[0m     \u001b[0mplot_obj\u001b[0m\u001b[0;34m.\u001b[0m\u001b[0mgenerate\u001b[0m\u001b[0;34m(\u001b[0m\u001b[0;34m)\u001b[0m\u001b[0;34m\u001b[0m\u001b[0;34m\u001b[0m\u001b[0m\n",
      "\u001b[0;32m~/.local/lib/python3.6/site-packages/pandas/plotting/_core.py\u001b[0m in \u001b[0;36m__init__\u001b[0;34m(self, data, **kwargs)\u001b[0m\n\u001b[1;32m    948\u001b[0m \u001b[0;34m\u001b[0m\u001b[0m\n\u001b[1;32m    949\u001b[0m     \u001b[0;32mdef\u001b[0m \u001b[0m__init__\u001b[0m\u001b[0;34m(\u001b[0m\u001b[0mself\u001b[0m\u001b[0;34m,\u001b[0m \u001b[0mdata\u001b[0m\u001b[0;34m,\u001b[0m \u001b[0;34m**\u001b[0m\u001b[0mkwargs\u001b[0m\u001b[0;34m)\u001b[0m\u001b[0;34m:\u001b[0m\u001b[0;34m\u001b[0m\u001b[0;34m\u001b[0m\u001b[0m\n\u001b[0;32m--> 950\u001b[0;31m         \u001b[0mMPLPlot\u001b[0m\u001b[0;34m.\u001b[0m\u001b[0m__init__\u001b[0m\u001b[0;34m(\u001b[0m\u001b[0mself\u001b[0m\u001b[0;34m,\u001b[0m \u001b[0mdata\u001b[0m\u001b[0;34m,\u001b[0m \u001b[0;34m**\u001b[0m\u001b[0mkwargs\u001b[0m\u001b[0;34m)\u001b[0m\u001b[0;34m\u001b[0m\u001b[0;34m\u001b[0m\u001b[0m\n\u001b[0m\u001b[1;32m    951\u001b[0m         \u001b[0;32mif\u001b[0m \u001b[0mself\u001b[0m\u001b[0;34m.\u001b[0m\u001b[0mstacked\u001b[0m\u001b[0;34m:\u001b[0m\u001b[0;34m\u001b[0m\u001b[0;34m\u001b[0m\u001b[0m\n\u001b[1;32m    952\u001b[0m             \u001b[0mself\u001b[0m\u001b[0;34m.\u001b[0m\u001b[0mdata\u001b[0m \u001b[0;34m=\u001b[0m \u001b[0mself\u001b[0m\u001b[0;34m.\u001b[0m\u001b[0mdata\u001b[0m\u001b[0;34m.\u001b[0m\u001b[0mfillna\u001b[0m\u001b[0;34m(\u001b[0m\u001b[0mvalue\u001b[0m\u001b[0;34m=\u001b[0m\u001b[0;36m0\u001b[0m\u001b[0;34m)\u001b[0m\u001b[0;34m\u001b[0m\u001b[0;34m\u001b[0m\u001b[0m\n",
      "\u001b[0;32m~/.local/lib/python3.6/site-packages/pandas/plotting/_core.py\u001b[0m in \u001b[0;36m__init__\u001b[0;34m(self, data, kind, by, subplots, sharex, sharey, use_index, figsize, grid, legend, rot, ax, fig, title, xlim, ylim, xticks, yticks, sort_columns, fontsize, secondary_y, colormap, table, layout, **kwds)\u001b[0m\n\u001b[1;32m     96\u001b[0m                  table=False, layout=None, **kwds):\n\u001b[1;32m     97\u001b[0m \u001b[0;34m\u001b[0m\u001b[0m\n\u001b[0;32m---> 98\u001b[0;31m         \u001b[0m_raise_if_no_mpl\u001b[0m\u001b[0;34m(\u001b[0m\u001b[0;34m)\u001b[0m\u001b[0;34m\u001b[0m\u001b[0;34m\u001b[0m\u001b[0m\n\u001b[0m\u001b[1;32m     99\u001b[0m         \u001b[0m_converter\u001b[0m\u001b[0;34m.\u001b[0m\u001b[0m_WARN\u001b[0m \u001b[0;34m=\u001b[0m \u001b[0;32mFalse\u001b[0m\u001b[0;34m\u001b[0m\u001b[0;34m\u001b[0m\u001b[0m\n\u001b[1;32m    100\u001b[0m         \u001b[0mself\u001b[0m\u001b[0;34m.\u001b[0m\u001b[0mdata\u001b[0m \u001b[0;34m=\u001b[0m \u001b[0mdata\u001b[0m\u001b[0;34m\u001b[0m\u001b[0;34m\u001b[0m\u001b[0m\n",
      "\u001b[0;32m~/.local/lib/python3.6/site-packages/pandas/plotting/_core.py\u001b[0m in \u001b[0;36m_raise_if_no_mpl\u001b[0;34m()\u001b[0m\n\u001b[1;32m     46\u001b[0m     \u001b[0;31m# TODO(mpl_converter): remove once converter is explicit\u001b[0m\u001b[0;34m\u001b[0m\u001b[0;34m\u001b[0m\u001b[0;34m\u001b[0m\u001b[0m\n\u001b[1;32m     47\u001b[0m     \u001b[0;32mif\u001b[0m \u001b[0;32mnot\u001b[0m \u001b[0m_HAS_MPL\u001b[0m\u001b[0;34m:\u001b[0m\u001b[0;34m\u001b[0m\u001b[0;34m\u001b[0m\u001b[0m\n\u001b[0;32m---> 48\u001b[0;31m         \u001b[0;32mraise\u001b[0m \u001b[0mImportError\u001b[0m\u001b[0;34m(\u001b[0m\u001b[0;34m\"matplotlib is required for plotting.\"\u001b[0m\u001b[0;34m)\u001b[0m\u001b[0;34m\u001b[0m\u001b[0;34m\u001b[0m\u001b[0m\n\u001b[0m\u001b[1;32m     49\u001b[0m \u001b[0;34m\u001b[0m\u001b[0m\n\u001b[1;32m     50\u001b[0m \u001b[0;34m\u001b[0m\u001b[0m\n",
      "\u001b[0;31mImportError\u001b[0m: matplotlib is required for plotting."
     ]
    }
   ],
   "source": [
    "import matplotlib\n",
    "import matplotlib.pyplot as plt\n",
    "\n",
    "df1.plot()\n",
    "plt.title(\"Pandas의 Plot메소드 사용 예\")\n",
    "plt.xlabel(\"시간\")\n",
    "plt.ylabel(\"Data\")\n",
    "plt.show()"
   ]
  },
  {
   "cell_type": "code",
   "execution_count": 70,
   "metadata": {},
   "outputs": [
    {
     "ename": "NameError",
     "evalue": "name 'sns' is not defined",
     "output_type": "error",
     "traceback": [
      "\u001b[0;31m---------------------------------------------------------------------------\u001b[0m",
      "\u001b[0;31mNameError\u001b[0m                                 Traceback (most recent call last)",
      "\u001b[0;32m<ipython-input-70-537c4d39e38a>\u001b[0m in \u001b[0;36m<module>\u001b[0;34m\u001b[0m\n\u001b[0;32m----> 1\u001b[0;31m \u001b[0miris\u001b[0m \u001b[0;34m=\u001b[0m \u001b[0msns\u001b[0m\u001b[0;34m.\u001b[0m\u001b[0mload_dataset\u001b[0m\u001b[0;34m(\u001b[0m\u001b[0;34m\"iris\"\u001b[0m\u001b[0;34m)\u001b[0m    \u001b[0;31m# 붓꽃 데이터\u001b[0m\u001b[0;34m\u001b[0m\u001b[0;34m\u001b[0m\u001b[0m\n\u001b[0m\u001b[1;32m      2\u001b[0m \u001b[0mtitanic\u001b[0m \u001b[0;34m=\u001b[0m \u001b[0msns\u001b[0m\u001b[0;34m.\u001b[0m\u001b[0mload_dataset\u001b[0m\u001b[0;34m(\u001b[0m\u001b[0;34m\"titanic\"\u001b[0m\u001b[0;34m)\u001b[0m    \u001b[0;31m# 타이타닉호 데이터\u001b[0m\u001b[0;34m\u001b[0m\u001b[0;34m\u001b[0m\u001b[0m\n\u001b[1;32m      3\u001b[0m \u001b[0;34m\u001b[0m\u001b[0m\n\u001b[1;32m      4\u001b[0m \u001b[0miris\u001b[0m\u001b[0;34m.\u001b[0m\u001b[0msepal_length\u001b[0m\u001b[0;34m[\u001b[0m\u001b[0;34m:\u001b[0m\u001b[0;36m20\u001b[0m\u001b[0;34m]\u001b[0m\u001b[0;34m.\u001b[0m\u001b[0mplot\u001b[0m\u001b[0;34m(\u001b[0m\u001b[0mkind\u001b[0m\u001b[0;34m=\u001b[0m\u001b[0;34m'bar'\u001b[0m\u001b[0;34m,\u001b[0m \u001b[0mrot\u001b[0m\u001b[0;34m=\u001b[0m\u001b[0;36m0\u001b[0m\u001b[0;34m)\u001b[0m\u001b[0;34m\u001b[0m\u001b[0;34m\u001b[0m\u001b[0m\n\u001b[1;32m      5\u001b[0m \u001b[0mplt\u001b[0m\u001b[0;34m.\u001b[0m\u001b[0mtitle\u001b[0m\u001b[0;34m(\u001b[0m\u001b[0;34m\"꽃받침의 길이 시각화\"\u001b[0m\u001b[0;34m)\u001b[0m\u001b[0;34m\u001b[0m\u001b[0;34m\u001b[0m\u001b[0m\n",
      "\u001b[0;31mNameError\u001b[0m: name 'sns' is not defined"
     ]
    }
   ],
   "source": [
    "iris = sns.load_dataset(\"iris\")    # 붓꽃 데이터\n",
    "titanic = sns.load_dataset(\"titanic\")    # 타이타닉호 데이터\n",
    "\n",
    "iris.sepal_length[:20].plot(kind='bar', rot=0)\n",
    "plt.title(\"꽃받침의 길이 시각화\")\n",
    "plt.xlabel(\"Data\")\n",
    "plt.ylabel(\"꽃받침의 길이\")\n",
    "plt.show()"
   ]
  },
  {
   "cell_type": "code",
   "execution_count": null,
   "metadata": {},
   "outputs": [],
   "source": []
  }
 ],
 "metadata": {
  "kernelspec": {
   "display_name": "Python 3",
   "language": "python",
   "name": "python3"
  },
  "language_info": {
   "codemirror_mode": {
    "name": "ipython",
    "version": 3
   },
   "file_extension": ".py",
   "mimetype": "text/x-python",
   "name": "python",
   "nbconvert_exporter": "python",
   "pygments_lexer": "ipython3",
   "version": "3.6.7"
  }
 },
 "nbformat": 4,
 "nbformat_minor": 2
}
